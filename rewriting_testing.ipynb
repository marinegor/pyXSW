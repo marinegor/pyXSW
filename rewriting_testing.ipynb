{
 "cells": [
  {
   "cell_type": "code",
   "execution_count": 1,
   "metadata": {
    "collapsed": true
   },
   "outputs": [
    {
     "name": "stderr",
     "output_type": "stream",
     "text": [
      "/usr/local/lib/python2.7/dist-packages/matplotlib/font_manager.py:273: UserWarning: Matplotlib is building the font cache using fc-list. This may take a moment.\n  warnings.warn('Matplotlib is building the font cache using fc-list. This may take a moment.')\n"
     ]
    },
    {
     "ename": "KeyError",
     "evalue": "'zmin'",
     "traceback": [
      "\u001b[0;31m\u001b[0m",
      "\u001b[0;31mKeyError\u001b[0mTraceback (most recent call last)",
      "\u001b[0;32m<ipython-input-1-8b7fbcd642a6>\u001b[0m in \u001b[0;36m<module>\u001b[0;34m()\u001b[0m\n\u001b[1;32m     75\u001b[0m \u001b[0;34m\u001b[0m\u001b[0m\n\u001b[1;32m     76\u001b[0m \u001b[0mnum_param\u001b[0m\u001b[0;34m,\u001b[0m \u001b[0mstr_param\u001b[0m \u001b[0;34m=\u001b[0m \u001b[0mget_initials\u001b[0m\u001b[0;34m(\u001b[0m\u001b[0;34m'/home/errorochka/Dropbox/DESY/pyXSW/pyxsw.prm'\u001b[0m\u001b[0;34m)\u001b[0m\u001b[0;34m\u001b[0m\u001b[0m\n\u001b[0;32m---> 77\u001b[0;31m \u001b[0mparams\u001b[0m\u001b[0;34m,\u001b[0m \u001b[0mtheta\u001b[0m\u001b[0;34m,\u001b[0m \u001b[0mmodel\u001b[0m\u001b[0;34m,\u001b[0m \u001b[0mchisquared\u001b[0m\u001b[0;34m,\u001b[0m \u001b[0mrfactor\u001b[0m \u001b[0;34m=\u001b[0m \u001b[0monegaussian_fit\u001b[0m\u001b[0;34m(\u001b[0m\u001b[0mnum_param\u001b[0m\u001b[0;34m,\u001b[0m \u001b[0mstr_param\u001b[0m\u001b[0;34m,\u001b[0m \u001b[0mproject_name\u001b[0m\u001b[0;34m=\u001b[0m\u001b[0;34m'test'\u001b[0m\u001b[0;34m)\u001b[0m\u001b[0;34m\u001b[0m\u001b[0m\n\u001b[0m\u001b[1;32m     78\u001b[0m \u001b[0;34m\u001b[0m\u001b[0m\n\u001b[1;32m     79\u001b[0m \u001b[0;32mprint\u001b[0m\u001b[0;34m(\u001b[0m\u001b[0;34m'Chisquared = %.4f, rfactor = %.4f'\u001b[0m\u001b[0;34m%\u001b[0m\u001b[0;34m(\u001b[0m\u001b[0mchisquared\u001b[0m\u001b[0;34m,\u001b[0m \u001b[0mrfactor\u001b[0m\u001b[0;34m)\u001b[0m\u001b[0;34m)\u001b[0m\u001b[0;34m\u001b[0m\u001b[0m\n",
      "\u001b[0;32m<ipython-input-1-8b7fbcd642a6>\u001b[0m in \u001b[0;36monegaussian_fit\u001b[0;34m(num_param, str_param, project_name, graph, table, datfile)\u001b[0m\n\u001b[1;32m     66\u001b[0m                                   \u001b[0mout\u001b[0m\u001b[0;34m.\u001b[0m\u001b[0mparams\u001b[0m\u001b[0;34m[\u001b[0m\u001b[0;34m'zmax'\u001b[0m\u001b[0;34m]\u001b[0m\u001b[0;34m,\u001b[0m\u001b[0;34m\u001b[0m\u001b[0m\n\u001b[1;32m     67\u001b[0m                                   \u001b[0mout\u001b[0m\u001b[0;34m.\u001b[0m\u001b[0mparams\u001b[0m\u001b[0;34m[\u001b[0m\u001b[0;34m'angle_slope'\u001b[0m\u001b[0;34m]\u001b[0m\u001b[0;34m,\u001b[0m\u001b[0;34m\u001b[0m\u001b[0m\n\u001b[0;32m---> 68\u001b[0;31m                                   \u001b[0mout\u001b[0m\u001b[0;34m.\u001b[0m\u001b[0mparams\u001b[0m\u001b[0;34m[\u001b[0m\u001b[0;34m'zmin'\u001b[0m\u001b[0;34m]\u001b[0m\u001b[0;34m\u001b[0m\u001b[0m\n\u001b[0m\u001b[1;32m     69\u001b[0m                                   )\n\u001b[1;32m     70\u001b[0m \u001b[0;34m\u001b[0m\u001b[0m\n",
      "\u001b[0;31mKeyError\u001b[0m: 'zmin'"
     ],
     "output_type": "error"
    }
   ],
   "source": [
    "from __future__ import print_function\n",
    "import numpy as np\n",
    "from lmfit import Parameters, minimize\n",
    "import matplotlib.pyplot as plt\n",
    "from optimization import *\n",
    "from export import *\n",
    "import time\n",
    "import sys\n",
    "\n",
    "\n",
    "def boolean_translate(dct, key):\n",
    "    try:\n",
    "        answ = str(dct[key])\n",
    "    except KeyError:\n",
    "        return True\n",
    "    if answ.lower() == 'false':\n",
    "        answ = False\n",
    "    elif answ.lower() == 'true':\n",
    "        answ = True\n",
    "    else:\n",
    "        raise ValueError('Incorrect %s value for str_param'%key)\n",
    "    \n",
    "    return answ    \n",
    "\n",
    "\n",
    "def onegaussian_fit(num_param, str_param, project_name='onegauss', graph=True, table=True, datfile=True):\n",
    "\n",
    "    try:\n",
    "        project_name = str_param['project_name']\n",
    "    except KeyError:\n",
    "        pass\n",
    "    # will look like onegauss_2016-8-31-12-58-48\n",
    "    prefix = project_name + '_' + '-'.join([str(i) for i in time.gmtime()[:6]])\n",
    "    os.mkdir(prefix)\n",
    "    os.chdir(prefix)\n",
    "\n",
    "    graph_print = boolean_translate(str_param, 'graph_print')\n",
    "    table_print = boolean_translate(str_param, 'table_print')\n",
    "    normalize = boolean_translate(str_param, 'normalize')\n",
    "\n",
    "    table = str_param['table']\n",
    "    xserver = str_param['xserver']\n",
    "    table = get_grd(table, xserver=xserver)\n",
    "    \n",
    "    bragg = num_param['bragg'].value\n",
    "    template = str_param['template']\n",
    "    real_data = str_param['data']\n",
    "    if template == 'xy':\n",
    "        theta, yelid = get_dat(real_data, bragg=bragg, normalize=normalize, template=template)\n",
    "        yelid_errors = None\n",
    "    elif template == 'xyy' or template == 'xyyerror':\n",
    "        theta, yelid, yelid_errors = get_dat(real_data, bragg=bragg, normalize=normalize, template=template)\n",
    "    elif template == 'xxerroryyerror':\n",
    "        theta, theta_error, yelid, yelid_errors = get_dat(real_data, bragg=bragg, normalize=normalize, template=template)\n",
    "    \n",
    "    # now we have yelid with correct angles (not relative to bragg), \n",
    "    # errors and standing wave table as np.array() with correct order\n",
    "    \n",
    "    out = minimize(residual_onegaussian, num_param, args=(table, theta, yelid, yelid_errors))\n",
    "    \n",
    "    model = intensity_onegaussian(table,\n",
    "                                  theta,\n",
    "                                  out.params['amp'],\n",
    "                                  out.params['sigma'],\n",
    "                                  out.params['x0'],\n",
    "                                  out.params['zmax'],\n",
    "                                  out.params['angle_slope'],\n",
    "                                  out.params['zmin']\n",
    "                                  )\n",
    "    \n",
    "    chisquared = residual_onegaussian(out, table, angles, yelid, errors=yelid_errors)\n",
    "    rfactor = sum(abs(model - data)) / sum(data)\n",
    "    \n",
    "    return out, angles, model, chisquared, rfactor\n",
    "\n",
    "num_param, str_param = get_initials('/home/errorochka/Dropbox/DESY/pyXSW/pyxsw.prm')\n",
    "params, theta, model, chisquared, rfactor = onegaussian_fit(num_param, str_param, project_name='test')\n",
    "\n",
    "print('Chisquared = %.4f, rfactor = %.4f'%(chisquared, rfactor))\n",
    "plt.plot(theta, model)\n",
    "plt.show()"
   ]
  },
  {
   "cell_type": "code",
   "execution_count": 2,
   "metadata": {},
   "outputs": [],
   "source": [
    "from __future__ import print_function\n",
    "import numpy as np\n",
    "from lmfit import Parameters, minimize\n",
    "import matplotlib.pyplot as plt\n",
    "from optimization import *\n",
    "from export import *\n",
    "import time\n",
    "import sys"
   ]
  },
  {
   "cell_type": "code",
   "execution_count": 29,
   "metadata": {},
   "outputs": [
    {
     "name": "stdout",
     "output_type": "stream",
     "text": [
      "1\tFalse\tFalse\n2\tfalse\tFalse\n3\tTruE\tTrue\n4\ttrue\tTrue\n"
     ]
    },
    {
     "ename": "ValueError",
     "evalue": "Incorrect 5 value for str_param",
     "traceback": [
      "\u001b[0;31m\u001b[0m",
      "\u001b[0;31mValueError\u001b[0mTraceback (most recent call last)",
      "\u001b[0;32m<ipython-input-29-e8da9f08cbbf>\u001b[0m in \u001b[0;36m<module>\u001b[0;34m()\u001b[0m\n\u001b[1;32m      1\u001b[0m \u001b[0ma\u001b[0m \u001b[0;34m=\u001b[0m \u001b[0;34m{\u001b[0m\u001b[0;36m1\u001b[0m\u001b[0;34m:\u001b[0m\u001b[0;34m'False'\u001b[0m\u001b[0;34m,\u001b[0m \u001b[0;36m2\u001b[0m\u001b[0;34m:\u001b[0m\u001b[0;34m'false'\u001b[0m\u001b[0;34m,\u001b[0m \u001b[0;36m3\u001b[0m\u001b[0;34m:\u001b[0m\u001b[0;34m'TruE'\u001b[0m\u001b[0;34m,\u001b[0m \u001b[0;36m4\u001b[0m\u001b[0;34m:\u001b[0m\u001b[0;34m'true'\u001b[0m\u001b[0;34m,\u001b[0m \u001b[0;36m5\u001b[0m\u001b[0;34m:\u001b[0m\u001b[0;36m120\u001b[0m\u001b[0;34m}\u001b[0m\u001b[0;34m\u001b[0m\u001b[0m\n\u001b[1;32m      2\u001b[0m \u001b[0;32mfor\u001b[0m \u001b[0mkey\u001b[0m \u001b[0;32min\u001b[0m \u001b[0ma\u001b[0m\u001b[0;34m.\u001b[0m\u001b[0mkeys\u001b[0m\u001b[0;34m(\u001b[0m\u001b[0;34m)\u001b[0m\u001b[0;34m:\u001b[0m\u001b[0;34m\u001b[0m\u001b[0m\n\u001b[0;32m----> 3\u001b[0;31m     \u001b[0;32mprint\u001b[0m\u001b[0;34m(\u001b[0m\u001b[0mkey\u001b[0m\u001b[0;34m,\u001b[0m \u001b[0ma\u001b[0m\u001b[0;34m[\u001b[0m\u001b[0mkey\u001b[0m\u001b[0;34m]\u001b[0m\u001b[0;34m,\u001b[0m \u001b[0mboolean_translate\u001b[0m\u001b[0;34m(\u001b[0m\u001b[0ma\u001b[0m\u001b[0;34m,\u001b[0m \u001b[0mkey\u001b[0m\u001b[0;34m)\u001b[0m\u001b[0;34m,\u001b[0m \u001b[0msep\u001b[0m\u001b[0;34m=\u001b[0m\u001b[0;34m'\\t'\u001b[0m\u001b[0;34m)\u001b[0m\u001b[0;34m\u001b[0m\u001b[0m\n\u001b[0m",
      "\u001b[0;32m<ipython-input-27-dcb2e75e06b8>\u001b[0m in \u001b[0;36mboolean_translate\u001b[0;34m(dct, key)\u001b[0m\n\u001b[1;32m     19\u001b[0m         \u001b[0mansw\u001b[0m \u001b[0;34m=\u001b[0m \u001b[0mTrue\u001b[0m\u001b[0;34m\u001b[0m\u001b[0m\n\u001b[1;32m     20\u001b[0m     \u001b[0;32melse\u001b[0m\u001b[0;34m:\u001b[0m\u001b[0;34m\u001b[0m\u001b[0m\n\u001b[0;32m---> 21\u001b[0;31m         \u001b[0;32mraise\u001b[0m \u001b[0mValueError\u001b[0m\u001b[0;34m(\u001b[0m\u001b[0;34m'Incorrect %s value for str_param'\u001b[0m\u001b[0;34m%\u001b[0m\u001b[0mkey\u001b[0m\u001b[0;34m)\u001b[0m\u001b[0;34m\u001b[0m\u001b[0m\n\u001b[0m\u001b[1;32m     22\u001b[0m \u001b[0;34m\u001b[0m\u001b[0m\n\u001b[1;32m     23\u001b[0m     \u001b[0;32mreturn\u001b[0m \u001b[0mansw\u001b[0m\u001b[0;34m\u001b[0m\u001b[0m\n",
      "\u001b[0;31mValueError\u001b[0m: Incorrect 5 value for str_param"
     ],
     "output_type": "error"
    }
   ],
   "source": [
    "a = {1:'False', 2:'false', 3:'TruE', 4:'true', 5:120}\n",
    "for key in a.keys():\n",
    "    print(key, a[key], boolean_translate(a, key), sep='\\t')"
   ]
  },
  {
   "cell_type": "code",
   "execution_count": null,
   "metadata": {},
   "outputs": [],
   "source": [
    ""
   ]
  }
 ],
 "metadata": {
  "kernelspec": {
   "display_name": "Python 2",
   "language": "python",
   "name": "python2"
  },
  "language_info": {
   "codemirror_mode": {
    "name": "ipython",
    "version": 2.0
   },
   "file_extension": ".py",
   "mimetype": "text/x-python",
   "name": "python",
   "nbconvert_exporter": "python",
   "pygments_lexer": "ipython2",
   "version": "2.7.6"
  }
 },
 "nbformat": 4,
 "nbformat_minor": 0
}